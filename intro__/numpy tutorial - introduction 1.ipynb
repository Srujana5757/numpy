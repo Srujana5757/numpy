{
 "cells": [
  {
   "cell_type": "markdown",
   "id": "c50a898c",
   "metadata": {},
   "source": [
    "# numpy array vs python list"
   ]
  },
  {
   "cell_type": "markdown",
   "id": "02c1c4f7",
   "metadata": {},
   "source": [
    "Numpy's most useful feature is n dimensional array object(a.k.a ndaray)"
   ]
  },
  {
   "cell_type": "code",
   "execution_count": 3,
   "id": "b5c92113",
   "metadata": {},
   "outputs": [
    {
     "data": {
      "text/plain": [
       "array([1, 2, 3])"
      ]
     },
     "execution_count": 3,
     "metadata": {},
     "output_type": "execute_result"
    }
   ],
   "source": [
    "import numpy as np\n",
    "a = np.array([1,2,3])\n",
    "a"
   ]
  },
  {
   "cell_type": "code",
   "execution_count": 4,
   "id": "a49e8617",
   "metadata": {},
   "outputs": [
    {
     "data": {
      "text/plain": [
       "1"
      ]
     },
     "execution_count": 4,
     "metadata": {},
     "output_type": "execute_result"
    }
   ],
   "source": [
    "a[0]"
   ]
  },
  {
   "cell_type": "code",
   "execution_count": 5,
   "id": "5e2ecb8a",
   "metadata": {},
   "outputs": [
    {
     "data": {
      "text/plain": [
       "2"
      ]
     },
     "execution_count": 5,
     "metadata": {},
     "output_type": "execute_result"
    }
   ],
   "source": [
    "a[1]"
   ]
  },
  {
   "cell_type": "code",
   "execution_count": null,
   "id": "08e56836",
   "metadata": {},
   "outputs": [],
   "source": [
    "question is i already have a list then whats so special about numpy array?\n",
    "there are several benefits of using Numpy Array, there are 3 main benefits of numpy array over a\n",
    "python list,\n",
    "(1) Less Memory\n",
    "(2) Fast\n",
    "(3) Convinient"
   ]
  },
  {
   "cell_type": "code",
   "execution_count": null,
   "id": "b6c8afa7",
   "metadata": {},
   "outputs": [],
   "source": [
    "we will go with one on one benefit"
   ]
  },
  {
   "cell_type": "code",
   "execution_count": 15,
   "id": "645b2d5a",
   "metadata": {},
   "outputs": [],
   "source": [
    "import time\n",
    "import sys"
   ]
  },
  {
   "cell_type": "code",
   "execution_count": 16,
   "id": "5a54e487",
   "metadata": {},
   "outputs": [
    {
     "name": "stdout",
     "output_type": "stream",
     "text": [
      "28000\n",
      "4000\n"
     ]
    }
   ],
   "source": [
    "l = range(1000)\n",
    "print(sys.getsizeof(5)*len(l))                  # 1st benefit is Less Memory\n",
    "array = np.arange(1000)\n",
    "print(array.size*array.itemsize)\n",
    "#numpy array has less usage of memory compare to plain python list\n"
   ]
  },
  {
   "cell_type": "code",
   "execution_count": null,
   "id": "7581803c",
   "metadata": {},
   "outputs": [],
   "source": [
    "going to the another benefit - 'Fast','convinient'"
   ]
  },
  {
   "cell_type": "code",
   "execution_count": null,
   "id": "2e7cfc40",
   "metadata": {},
   "outputs": [],
   "source": [
    "now i am showing you numpy array is fast and convinient compared to native python list."
   ]
  },
  {
   "cell_type": "code",
   "execution_count": 21,
   "id": "776f60f5",
   "metadata": {},
   "outputs": [
    {
     "name": "stdout",
     "output_type": "stream",
     "text": [
      "python list took:  151.60584449768066\n",
      "numpy took:  24.02806282043457\n"
     ]
    }
   ],
   "source": [
    "SIZE = 1000000\n",
    "\n",
    "l1 = range(SIZE)\n",
    "l2 = range(SIZE)\n",
    "\n",
    "a1 = np.arange(SIZE)\n",
    "a2 = np.arange(SIZE)\n",
    "\n",
    "#PYTHON LIST\n",
    "start = time.time()\n",
    "result = [(x+y) for x,y in zip(l1,l2)]\n",
    "print(\"python list took: \",(time.time()-start)*1000)\n",
    "\n",
    "#Numpy Array\n",
    "start = time.time()\n",
    "result = a1 + a2\n",
    "print(\"numpy took: \",(time.time()-start)*1000)"
   ]
  },
  {
   "cell_type": "code",
   "execution_count": null,
   "id": "126484d5",
   "metadata": {},
   "outputs": [],
   "source": [
    "the output u can see that how fast numpy than python list the time difference that we can measure b/w \n",
    "the numpy and python ."
   ]
  },
  {
   "cell_type": "code",
   "execution_count": null,
   "id": "790b12af",
   "metadata": {},
   "outputs": [],
   "source": [
    "im going to create two numpy array"
   ]
  },
  {
   "cell_type": "code",
   "execution_count": 22,
   "id": "244525b2",
   "metadata": {},
   "outputs": [],
   "source": [
    "a1 = np.array([1,2,3])\n",
    "a2 = np.array([4,5,6])"
   ]
  },
  {
   "cell_type": "code",
   "execution_count": 23,
   "id": "b821aeef",
   "metadata": {},
   "outputs": [
    {
     "data": {
      "text/plain": [
       "array([5, 7, 9])"
      ]
     },
     "execution_count": 23,
     "metadata": {},
     "output_type": "execute_result"
    }
   ],
   "source": [
    "a1+a2"
   ]
  },
  {
   "cell_type": "code",
   "execution_count": 26,
   "id": "3087d1af",
   "metadata": {},
   "outputs": [
    {
     "data": {
      "text/plain": [
       "array([3, 3, 3])"
      ]
     },
     "execution_count": 26,
     "metadata": {},
     "output_type": "execute_result"
    }
   ],
   "source": [
    "a2-a1"
   ]
  },
  {
   "cell_type": "code",
   "execution_count": 27,
   "id": "d228f724",
   "metadata": {},
   "outputs": [
    {
     "data": {
      "text/plain": [
       "array([ 4, 10, 18])"
      ]
     },
     "execution_count": 27,
     "metadata": {},
     "output_type": "execute_result"
    }
   ],
   "source": [
    "a1*a2"
   ]
  },
  {
   "cell_type": "code",
   "execution_count": 28,
   "id": "f17385f5",
   "metadata": {},
   "outputs": [
    {
     "data": {
      "text/plain": [
       "array([0.25, 0.4 , 0.5 ])"
      ]
     },
     "execution_count": 28,
     "metadata": {},
     "output_type": "execute_result"
    }
   ],
   "source": [
    "a1/a2"
   ]
  },
  {
   "cell_type": "code",
   "execution_count": null,
   "id": "da13f813",
   "metadata": {},
   "outputs": [],
   "source": [
    "#we do all these above operations#"
   ]
  }
 ],
 "metadata": {
  "kernelspec": {
   "display_name": "Python 3 (ipykernel)",
   "language": "python",
   "name": "python3"
  },
  "language_info": {
   "codemirror_mode": {
    "name": "ipython",
    "version": 3
   },
   "file_extension": ".py",
   "mimetype": "text/x-python",
   "name": "python",
   "nbconvert_exporter": "python",
   "pygments_lexer": "ipython3",
   "version": "3.10.6"
  }
 },
 "nbformat": 4,
 "nbformat_minor": 5
}
