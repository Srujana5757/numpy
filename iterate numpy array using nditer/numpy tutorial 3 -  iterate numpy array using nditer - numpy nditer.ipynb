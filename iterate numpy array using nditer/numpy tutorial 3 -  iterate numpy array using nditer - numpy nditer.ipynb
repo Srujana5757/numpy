{
 "cells": [
  {
   "cell_type": "markdown",
   "id": "a19d5472",
   "metadata": {},
   "source": [
    "## numpy tutorial: iterate numpy array using nditer | numpy nditer"
   ]
  },
  {
   "cell_type": "code",
   "execution_count": 1,
   "id": "fe912a84",
   "metadata": {},
   "outputs": [],
   "source": [
    "import numpy as np"
   ]
  },
  {
   "cell_type": "code",
   "execution_count": 2,
   "id": "498a513b",
   "metadata": {},
   "outputs": [
    {
     "data": {
      "text/plain": [
       "array([[ 0,  1,  2,  3],\n",
       "       [ 4,  5,  6,  7],\n",
       "       [ 8,  9, 10, 11]])"
      ]
     },
     "execution_count": 2,
     "metadata": {},
     "output_type": "execute_result"
    }
   ],
   "source": [
    "#creat an array\n",
    "# here i use 'arange' function and have 12 elements, and reshape into 3 by 4\n",
    "a = np.arange(12).reshape(3,4)\n",
    "a"
   ]
  },
  {
   "cell_type": "code",
   "execution_count": null,
   "id": "396f3bac",
   "metadata": {},
   "outputs": [],
   "source": [
    "# i got this numpy array which is two dimensional array"
   ]
  },
  {
   "cell_type": "code",
   "execution_count": 3,
   "id": "904aedab",
   "metadata": {},
   "outputs": [
    {
     "name": "stdout",
     "output_type": "stream",
     "text": [
      "[0 1 2 3]\n",
      "[4 5 6 7]\n",
      "[ 8  9 10 11]\n"
     ]
    }
   ],
   "source": [
    "# simple way of iterating through this array is to run for loop on it\n",
    "for row in a:\n",
    "    print(row)"
   ]
  },
  {
   "cell_type": "code",
   "execution_count": 4,
   "id": "d93ccbf8",
   "metadata": {},
   "outputs": [
    {
     "name": "stdout",
     "output_type": "stream",
     "text": [
      "0\n",
      "1\n",
      "2\n",
      "3\n",
      "4\n",
      "5\n",
      "6\n",
      "7\n",
      "8\n",
      "9\n",
      "10\n",
      "11\n"
     ]
    }
   ],
   "source": [
    "# if you are interested itering over each of these elements one by one then u can introduce one more\n",
    "# for loop\n",
    "for row in a:\n",
    "    for cell in row:\n",
    "        print(cell)\n",
    "        # that will print all individual elements\n",
    " #for this way u need to write two for loops                   "
   ]
  },
  {
   "cell_type": "code",
   "execution_count": null,
   "id": "46a4cac0",
   "metadata": {},
   "outputs": [],
   "source": []
  },
  {
   "cell_type": "code",
   "execution_count": null,
   "id": "0171bd19",
   "metadata": {},
   "outputs": [],
   "source": []
  },
  {
   "cell_type": "code",
   "execution_count": 5,
   "id": "69bae40e",
   "metadata": {},
   "outputs": [
    {
     "name": "stdout",
     "output_type": "stream",
     "text": [
      "0\n",
      "1\n",
      "2\n",
      "3\n",
      "4\n",
      "5\n",
      "6\n",
      "7\n",
      "8\n",
      "9\n",
      "10\n",
      "11\n"
     ]
    }
   ],
   "source": [
    "#now if you just want to flattern this array into a list simply called flatten()\n",
    "# write one single for loop be done with it\n",
    "for cell in a.flatten():\n",
    "    print(cell)"
   ]
  },
  {
   "cell_type": "code",
   "execution_count": null,
   "id": "7e8a4bf9",
   "metadata": {},
   "outputs": [],
   "source": []
  },
  {
   "cell_type": "code",
   "execution_count": null,
   "id": "35e2f9cc",
   "metadata": {},
   "outputs": [],
   "source": []
  },
  {
   "cell_type": "markdown",
   "id": "408319bf",
   "metadata": {},
   "source": [
    "### numpy.nditer"
   ]
  },
  {
   "cell_type": "code",
   "execution_count": 7,
   "id": "620d818a",
   "metadata": {},
   "outputs": [
    {
     "name": "stdout",
     "output_type": "stream",
     "text": [
      "0\n",
      "1\n",
      "2\n",
      "3\n",
      "4\n",
      "5\n",
      "6\n",
      "7\n",
      "8\n",
      "9\n",
      "10\n",
      "11\n"
     ]
    }
   ],
   "source": [
    "# numpy offers a function called 'nditer' allows to do more suffosticated of iteration\n",
    "# for example:\n",
    "for x in np.nditer(a,order='c'):\n",
    "    print(x)\n",
    "#the first arguement is array itself and 2nd is order"
   ]
  },
  {
   "cell_type": "code",
   "execution_count": null,
   "id": "882b8d6a",
   "metadata": {},
   "outputs": [],
   "source": [
    "# itfact its has same effect as flatten\n",
    "# essentially u r going by row by row printing values in each of theses columns"
   ]
  },
  {
   "cell_type": "code",
   "execution_count": null,
   "id": "c977421e",
   "metadata": {},
   "outputs": [],
   "source": []
  },
  {
   "cell_type": "code",
   "execution_count": 8,
   "id": "24fe83e3",
   "metadata": {},
   "outputs": [
    {
     "name": "stdout",
     "output_type": "stream",
     "text": [
      "0\n",
      "4\n",
      "8\n",
      "1\n",
      "5\n",
      "9\n",
      "2\n",
      "6\n",
      "10\n",
      "3\n",
      "7\n",
      "11\n"
     ]
    }
   ],
   "source": [
    "#lets see if u r a fortran programmer and u want to go column by column instead of row by row\n",
    "# instead of printing 0,1,2,3,4.....you want to print 0,4,8,1....then u just change your order to be\n",
    "for x in np.nditer(a,order='F'):\n",
    "    print(x)\n",
    "    #then u will see now u r printing order into fortran order\n",
    "    # thats the benefit of nditer it allows u to iteration in vareity of ways"
   ]
  },
  {
   "cell_type": "code",
   "execution_count": 9,
   "id": "80766f51",
   "metadata": {},
   "outputs": [
    {
     "name": "stdout",
     "output_type": "stream",
     "text": [
      "[0 4 8]\n",
      "[1 5 9]\n",
      "[ 2  6 10]\n",
      "[ 3  7 11]\n"
     ]
    }
   ],
   "source": [
    "# if i want to print entire column, basically print entire column on each iteration\n",
    "# you do this by supplying flags and here the value u provide is 'external_loop' when u do that each \n",
    "#  each iteration is printing iterating entire column\n",
    "for x in np.nditer(a,order='F',flags=['external_loop']):\n",
    "    print(x)"
   ]
  },
  {
   "cell_type": "code",
   "execution_count": 10,
   "id": "f205c1f5",
   "metadata": {},
   "outputs": [],
   "source": [
    "# lets u r iterating an array u have to modify elements using that perticular flag\n",
    "for x in np.nditer(a,op_flags=['readwrite']):\n",
    "    #the covention that u have to follow is...\n",
    "    x[...]=x*x# i want to create square of these elements in these array & i want to modify the\n",
    "    #  original array\n"
   ]
  },
  {
   "cell_type": "code",
   "execution_count": 11,
   "id": "e27e3867",
   "metadata": {},
   "outputs": [
    {
     "data": {
      "text/plain": [
       "array([[  0,   1,   4,   9],\n",
       "       [ 16,  25,  36,  49],\n",
       "       [ 64,  81, 100, 121]])"
      ]
     },
     "execution_count": 11,
     "metadata": {},
     "output_type": "execute_result"
    }
   ],
   "source": [
    "#i will print array\n",
    "a"
   ]
  },
  {
   "cell_type": "code",
   "execution_count": null,
   "id": "46e138be",
   "metadata": {},
   "outputs": [],
   "source": [
    "# you will notice that my original is modified, each of these elemnts are the suare of original array"
   ]
  },
  {
   "cell_type": "code",
   "execution_count": null,
   "id": "9681ed67",
   "metadata": {},
   "outputs": [],
   "source": []
  },
  {
   "cell_type": "code",
   "execution_count": null,
   "id": "b15222a5",
   "metadata": {},
   "outputs": [],
   "source": []
  },
  {
   "cell_type": "code",
   "execution_count": 12,
   "id": "40d4bd98",
   "metadata": {},
   "outputs": [],
   "source": [
    "# now how do u iterate through two numpy arrays simultaneously\n",
    "# 2 arrays at the same time\n",
    "#lets crate another array"
   ]
  },
  {
   "cell_type": "code",
   "execution_count": 13,
   "id": "368f8060",
   "metadata": {},
   "outputs": [
    {
     "data": {
      "text/plain": [
       "array([[ 3],\n",
       "       [ 7],\n",
       "       [11]])"
      ]
     },
     "execution_count": 13,
     "metadata": {},
     "output_type": "execute_result"
    }
   ],
   "source": [
    "#this time going to create array with different dimension\n",
    "b = np.arange(3,15,4).reshape(3,1)\n",
    "b"
   ]
  },
  {
   "cell_type": "code",
   "execution_count": 14,
   "id": "41e9ebda",
   "metadata": {},
   "outputs": [
    {
     "name": "stdout",
     "output_type": "stream",
     "text": [
      "0 3\n",
      "1 3\n",
      "4 3\n",
      "9 3\n",
      "16 7\n",
      "25 7\n",
      "36 7\n",
      "49 7\n",
      "64 11\n",
      "81 11\n",
      "100 11\n",
      "121 11\n"
     ]
    }
   ],
   "source": [
    "# i want to iterate these two arrays a,b simultaneously\n",
    "for x,y in np.nditer([a,b]):\n",
    "    print(x,y)"
   ]
  },
  {
   "cell_type": "code",
   "execution_count": 15,
   "id": "2ed7915c",
   "metadata": {},
   "outputs": [],
   "source": [
    "# now u can iterate through two arrays simultaneously"
   ]
  },
  {
   "cell_type": "code",
   "execution_count": null,
   "id": "87a05258",
   "metadata": {},
   "outputs": [],
   "source": []
  },
  {
   "cell_type": "code",
   "execution_count": null,
   "id": "3833509a",
   "metadata": {},
   "outputs": [],
   "source": [
    "#general Broadcasting rules:\n",
    "when operating on two arrays. Numpy compares their shapes element-wise.it starts with the trailing\n",
    "dimensions and works its way forward. Two dimensions are compatible when,\n",
    "1.they are equal, or\n",
    "2.one of them is 1"
   ]
  }
 ],
 "metadata": {
  "kernelspec": {
   "display_name": "Python 3 (ipykernel)",
   "language": "python",
   "name": "python3"
  },
  "language_info": {
   "codemirror_mode": {
    "name": "ipython",
    "version": 3
   },
   "file_extension": ".py",
   "mimetype": "text/x-python",
   "name": "python",
   "nbconvert_exporter": "python",
   "pygments_lexer": "ipython3",
   "version": "3.10.6"
  }
 },
 "nbformat": 4,
 "nbformat_minor": 5
}
