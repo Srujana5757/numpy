{
 "cells": [
  {
   "cell_type": "markdown",
   "id": "7840c3cc",
   "metadata": {},
   "source": [
    "# Topics:"
   ]
  },
  {
   "cell_type": "markdown",
   "id": "ceffe046",
   "metadata": {},
   "source": [
    "### Indexing and slicing:"
   ]
  },
  {
   "cell_type": "code",
   "execution_count": 1,
   "id": "e5f8ba3e",
   "metadata": {},
   "outputs": [],
   "source": [
    "import numpy as np"
   ]
  },
  {
   "cell_type": "code",
   "execution_count": 2,
   "id": "0da35a9c",
   "metadata": {},
   "outputs": [
    {
     "data": {
      "text/plain": [
       "[6, 7]"
      ]
     },
     "execution_count": 2,
     "metadata": {},
     "output_type": "execute_result"
    }
   ],
   "source": [
    "#when we have normal python list \n",
    "n = [6,7,8]\n",
    "#we do slicing like this\n",
    "n[0:2]  # when u do 0 to 2 - what it will do is it will print 6,7 it will not cover 8.\n",
    "# 0:2 it will cover upto 1 "
   ]
  },
  {
   "cell_type": "code",
   "execution_count": 3,
   "id": "248b431f",
   "metadata": {},
   "outputs": [
    {
     "data": {
      "text/plain": [
       "8"
      ]
     },
     "execution_count": 3,
     "metadata": {},
     "output_type": "execute_result"
    }
   ],
   "source": [
    "n[-1]\n",
    "#it also supports -1. -1 means it starts from ending from last element"
   ]
  },
  {
   "cell_type": "code",
   "execution_count": 4,
   "id": "50fc0d16",
   "metadata": {},
   "outputs": [
    {
     "data": {
      "text/plain": [
       "array([6, 7])"
      ]
     },
     "execution_count": 4,
     "metadata": {},
     "output_type": "execute_result"
    }
   ],
   "source": [
    "#numpy array supports similar kind of slicing\n",
    "# here im going to create numpy array, here im initialiging same elements.\n",
    "a = np.array([6,7,8])\n",
    "#if u do \n",
    "a[0:2]\n",
    "#here u will see the same as above normal python list slicing"
   ]
  },
  {
   "cell_type": "code",
   "execution_count": 5,
   "id": "61b8e987",
   "metadata": {},
   "outputs": [
    {
     "data": {
      "text/plain": [
       "8"
      ]
     },
     "execution_count": 5,
     "metadata": {},
     "output_type": "execute_result"
    }
   ],
   "source": [
    "#it also supports reverse index -1\n",
    "a[-1]\n",
    "#it is kinda similar to normal python list slicing that we can use for numpy array"
   ]
  },
  {
   "cell_type": "code",
   "execution_count": 7,
   "id": "c665a9bc",
   "metadata": {},
   "outputs": [
    {
     "data": {
      "text/plain": [
       "array([[6, 7, 8],\n",
       "       [1, 2, 3],\n",
       "       [9, 3, 2]])"
      ]
     },
     "execution_count": 7,
     "metadata": {},
     "output_type": "execute_result"
    }
   ],
   "source": [
    "#lets go through multi-dimensional array\n",
    "a=np.array([[6,7,8],[1,2,3],[9,3,2]])\n",
    "a"
   ]
  },
  {
   "cell_type": "code",
   "execution_count": 8,
   "id": "21dfe3c8",
   "metadata": {},
   "outputs": [
    {
     "data": {
      "text/plain": [
       "3"
      ]
     },
     "execution_count": 8,
     "metadata": {},
     "output_type": "execute_result"
    }
   ],
   "source": [
    "a[1,2]"
   ]
  },
  {
   "cell_type": "code",
   "execution_count": 9,
   "id": "0c4a09ff",
   "metadata": {},
   "outputs": [
    {
     "data": {
      "text/plain": [
       "array([8, 3])"
      ]
     },
     "execution_count": 9,
     "metadata": {},
     "output_type": "execute_result"
    }
   ],
   "source": [
    "a[0:2,2]"
   ]
  },
  {
   "cell_type": "code",
   "execution_count": 21,
   "id": "5540fb5d",
   "metadata": {},
   "outputs": [
    {
     "data": {
      "text/plain": [
       "array([9, 3, 2])"
      ]
     },
     "execution_count": 21,
     "metadata": {},
     "output_type": "execute_result"
    }
   ],
   "source": [
    "a[-1]"
   ]
  },
  {
   "cell_type": "code",
   "execution_count": 22,
   "id": "5cb619a9",
   "metadata": {},
   "outputs": [
    {
     "data": {
      "text/plain": [
       "array([9, 3])"
      ]
     },
     "execution_count": 22,
     "metadata": {},
     "output_type": "execute_result"
    }
   ],
   "source": [
    "a[-1,0:2]"
   ]
  },
  {
   "cell_type": "code",
   "execution_count": 24,
   "id": "c1eff6d1",
   "metadata": {},
   "outputs": [
    {
     "data": {
      "text/plain": [
       "array([[7, 8],\n",
       "       [2, 3],\n",
       "       [3, 2]])"
      ]
     },
     "execution_count": 24,
     "metadata": {},
     "output_type": "execute_result"
    }
   ],
   "source": [
    "a[:,1:3]"
   ]
  },
  {
   "cell_type": "code",
   "execution_count": 25,
   "id": "d135c441",
   "metadata": {},
   "outputs": [
    {
     "data": {
      "text/plain": [
       "array([[1, 2, 3],\n",
       "       [9, 3, 2]])"
      ]
     },
     "execution_count": 25,
     "metadata": {},
     "output_type": "execute_result"
    }
   ],
   "source": [
    "a[1:3]"
   ]
  },
  {
   "cell_type": "markdown",
   "id": "c42bb9f5",
   "metadata": {},
   "source": [
    "### iterating through arrays:"
   ]
  },
  {
   "cell_type": "code",
   "execution_count": 26,
   "id": "8d40816c",
   "metadata": {},
   "outputs": [],
   "source": [
    "import numpy as np"
   ]
  },
  {
   "cell_type": "code",
   "execution_count": 27,
   "id": "95d90307",
   "metadata": {},
   "outputs": [
    {
     "data": {
      "text/plain": [
       "array([[6, 7, 8],\n",
       "       [1, 2, 3],\n",
       "       [9, 3, 2]])"
      ]
     },
     "execution_count": 27,
     "metadata": {},
     "output_type": "execute_result"
    }
   ],
   "source": [
    "a=np.array([[6,7,8],[1,2,3],[9,3,2]])\n",
    "a"
   ]
  },
  {
   "cell_type": "code",
   "execution_count": 30,
   "id": "d4439db4",
   "metadata": {},
   "outputs": [
    {
     "name": "stdout",
     "output_type": "stream",
     "text": [
      "[6 7 8]\n",
      "[1 2 3]\n",
      "[9 3 2]\n"
     ]
    }
   ],
   "source": [
    "for row in a:\n",
    "    print(row)"
   ]
  },
  {
   "cell_type": "code",
   "execution_count": 31,
   "id": "a02d1d80",
   "metadata": {},
   "outputs": [
    {
     "name": "stdout",
     "output_type": "stream",
     "text": [
      "6\n",
      "7\n",
      "8\n",
      "1\n",
      "2\n",
      "3\n",
      "9\n",
      "3\n",
      "2\n"
     ]
    }
   ],
   "source": [
    "#numpy has a method called flat\n",
    "for cell in a.flat:\n",
    "    print(cell)"
   ]
  },
  {
   "cell_type": "code",
   "execution_count": 32,
   "id": "0bbf9fd6",
   "metadata": {},
   "outputs": [],
   "source": [
    "# whats the flat method is doing is,its flatterning a single dimensional array,\n",
    "#now it can iterate through entire array"
   ]
  },
  {
   "cell_type": "code",
   "execution_count": null,
   "id": "8b81b646",
   "metadata": {},
   "outputs": [],
   "source": []
  },
  {
   "cell_type": "code",
   "execution_count": null,
   "id": "ce5d1c3a",
   "metadata": {},
   "outputs": [],
   "source": []
  },
  {
   "cell_type": "markdown",
   "id": "7673971a",
   "metadata": {},
   "source": [
    "### Stacking together two arrays"
   ]
  },
  {
   "cell_type": "code",
   "execution_count": 2,
   "id": "7ff8291e",
   "metadata": {},
   "outputs": [],
   "source": [
    "import numpy as np\n",
    "a=np.arange(6).reshape(3,2)\n",
    "b=np.arange(6,12).reshape(3,2)"
   ]
  },
  {
   "cell_type": "code",
   "execution_count": 3,
   "id": "33619fda",
   "metadata": {},
   "outputs": [],
   "source": [
    "#first let we have two arrays\n",
    "#a=np.arrange(6).reshape(3,2)\n",
    "#what i'm doing is im initializing numbers 0 to 5 and reshaping it by 3/2\n",
    "#and im having 'b'\n",
    "#b=np.arrange(6,12).reshape(3,2)"
   ]
  },
  {
   "cell_type": "code",
   "execution_count": 4,
   "id": "72ec363c",
   "metadata": {},
   "outputs": [
    {
     "data": {
      "text/plain": [
       "array([[0, 1],\n",
       "       [2, 3],\n",
       "       [4, 5]])"
      ]
     },
     "execution_count": 4,
     "metadata": {},
     "output_type": "execute_result"
    }
   ],
   "source": [
    "a"
   ]
  },
  {
   "cell_type": "code",
   "execution_count": 5,
   "id": "5b34b439",
   "metadata": {},
   "outputs": [
    {
     "data": {
      "text/plain": [
       "array([[ 6,  7],\n",
       "       [ 8,  9],\n",
       "       [10, 11]])"
      ]
     },
     "execution_count": 5,
     "metadata": {},
     "output_type": "execute_result"
    }
   ],
   "source": [
    "b"
   ]
  },
  {
   "cell_type": "code",
   "execution_count": 6,
   "id": "1e212a0e",
   "metadata": {},
   "outputs": [],
   "source": [
    "#so u have lets say 2 dimensional array\n"
   ]
  },
  {
   "cell_type": "code",
   "execution_count": 6,
   "id": "b69dacb3",
   "metadata": {},
   "outputs": [
    {
     "ename": "TypeError",
     "evalue": "_vhstack_dispatcher() takes 1 positional argument but 2 were given",
     "output_type": "error",
     "traceback": [
      "\u001b[1;31m---------------------------------------------------------------------------\u001b[0m",
      "\u001b[1;31mTypeError\u001b[0m                                 Traceback (most recent call last)",
      "Cell \u001b[1;32mIn [6], line 2\u001b[0m\n\u001b[0;32m      1\u001b[0m \u001b[38;5;66;03m#now if u want to  vertically stack them together ,numpy supports that\u001b[39;00m\n\u001b[1;32m----> 2\u001b[0m np\u001b[38;5;241m.\u001b[39mvstack(a,b)\n",
      "File \u001b[1;32m<__array_function__ internals>:179\u001b[0m, in \u001b[0;36mvstack\u001b[1;34m(*args, **kwargs)\u001b[0m\n",
      "\u001b[1;31mTypeError\u001b[0m: _vhstack_dispatcher() takes 1 positional argument but 2 were given"
     ]
    }
   ],
   "source": [
    "#now if u want to  vertically stack them together ,numpy supports that\n",
    "np.vstack(a,b)"
   ]
  },
  {
   "cell_type": "code",
   "execution_count": 7,
   "id": "93480eff",
   "metadata": {},
   "outputs": [
    {
     "data": {
      "text/plain": [
       "array([[ 0,  1],\n",
       "       [ 2,  3],\n",
       "       [ 4,  5],\n",
       "       [ 6,  7],\n",
       "       [ 8,  9],\n",
       "       [10, 11]])"
      ]
     },
     "execution_count": 7,
     "metadata": {},
     "output_type": "execute_result"
    }
   ],
   "source": [
    "#i have a error syntax, actually the argument is tuple actually ..\n",
    "np.vstack((a,b))\n",
    "#vertically stacking\n",
    "#the box represent up & down"
   ]
  },
  {
   "cell_type": "code",
   "execution_count": 8,
   "id": "9e338499",
   "metadata": {},
   "outputs": [
    {
     "data": {
      "text/plain": [
       "array([[ 0,  1,  6,  7],\n",
       "       [ 2,  3,  8,  9],\n",
       "       [ 4,  5, 10, 11]])"
      ]
     },
     "execution_count": 8,
     "metadata": {},
     "output_type": "execute_result"
    }
   ],
   "source": [
    "#horizontally stacking\n",
    "np.hstack((a,b))\n",
    "#the box represent side-by-side"
   ]
  },
  {
   "cell_type": "code",
   "execution_count": 9,
   "id": "fd7b75fb",
   "metadata": {},
   "outputs": [],
   "source": [
    "#horizontal splits\n",
    "#now again im initializing new array\n",
    "a=np.arange(30).reshape(2,15)\n",
    "#this array having 2 rows 15 columns"
   ]
  },
  {
   "cell_type": "code",
   "execution_count": 10,
   "id": "f3623b77",
   "metadata": {},
   "outputs": [
    {
     "data": {
      "text/plain": [
       "array([[ 0,  1,  2,  3,  4,  5,  6,  7,  8,  9, 10, 11, 12, 13, 14],\n",
       "       [15, 16, 17, 18, 19, 20, 21, 22, 23, 24, 25, 26, 27, 28, 29]])"
      ]
     },
     "execution_count": 10,
     "metadata": {},
     "output_type": "execute_result"
    }
   ],
   "source": [
    "a"
   ]
  },
  {
   "cell_type": "code",
   "execution_count": 11,
   "id": "27955320",
   "metadata": {},
   "outputs": [
    {
     "data": {
      "text/plain": [
       "[array([[ 0,  1,  2,  3,  4],\n",
       "        [15, 16, 17, 18, 19]]),\n",
       " array([[ 5,  6,  7,  8,  9],\n",
       "        [20, 21, 22, 23, 24]]),\n",
       " array([[10, 11, 12, 13, 14],\n",
       "        [25, 26, 27, 28, 29]])]"
      ]
     },
     "execution_count": 11,
     "metadata": {},
     "output_type": "execute_result"
    }
   ],
   "source": [
    "np.hsplit(a,3)\n",
    "#by using this it split it into three different arrays"
   ]
  },
  {
   "cell_type": "code",
   "execution_count": 12,
   "id": "0aa9b0c2",
   "metadata": {},
   "outputs": [],
   "source": [
    "#now its kind of hard to visualize, so now what im going to is im going to store the result into a \n",
    "# variable which is a list and just print those things one by one\n",
    "result = np.hsplit(a,3)"
   ]
  },
  {
   "cell_type": "code",
   "execution_count": 13,
   "id": "ee90f312",
   "metadata": {},
   "outputs": [
    {
     "data": {
      "text/plain": [
       "array([[ 0,  1,  2,  3,  4],\n",
       "       [15, 16, 17, 18, 19]])"
      ]
     },
     "execution_count": 13,
     "metadata": {},
     "output_type": "execute_result"
    }
   ],
   "source": [
    "result[0]"
   ]
  },
  {
   "cell_type": "code",
   "execution_count": 14,
   "id": "e7740940",
   "metadata": {},
   "outputs": [
    {
     "data": {
      "text/plain": [
       "array([[ 5,  6,  7,  8,  9],\n",
       "       [20, 21, 22, 23, 24]])"
      ]
     },
     "execution_count": 14,
     "metadata": {},
     "output_type": "execute_result"
    }
   ],
   "source": [
    "result[1]"
   ]
  },
  {
   "cell_type": "code",
   "execution_count": 15,
   "id": "77310857",
   "metadata": {},
   "outputs": [
    {
     "data": {
      "text/plain": [
       "array([[10, 11, 12, 13, 14],\n",
       "       [25, 26, 27, 28, 29]])"
      ]
     },
     "execution_count": 15,
     "metadata": {},
     "output_type": "execute_result"
    }
   ],
   "source": [
    "result[2]"
   ]
  },
  {
   "cell_type": "code",
   "execution_count": 17,
   "id": "e32468cd",
   "metadata": {},
   "outputs": [],
   "source": [
    "#you can see that i kinda vertically sliced these big array into 3 different  arrays by doing\n",
    "# hsplit (a,3) here 3 means divided into 3 equal sized"
   ]
  },
  {
   "cell_type": "code",
   "execution_count": null,
   "id": "ca82aba4",
   "metadata": {},
   "outputs": [],
   "source": []
  },
  {
   "cell_type": "code",
   "execution_count": null,
   "id": "49d06390",
   "metadata": {},
   "outputs": [],
   "source": []
  },
  {
   "cell_type": "code",
   "execution_count": 16,
   "id": "93adcd97",
   "metadata": {},
   "outputs": [],
   "source": [
    "result = np.vsplit(a,2) # in vertical i have only 2 rows"
   ]
  },
  {
   "cell_type": "code",
   "execution_count": 17,
   "id": "c571e776",
   "metadata": {},
   "outputs": [
    {
     "data": {
      "text/plain": [
       "array([[ 0,  1,  2,  3,  4,  5,  6,  7,  8,  9, 10, 11, 12, 13, 14]])"
      ]
     },
     "execution_count": 17,
     "metadata": {},
     "output_type": "execute_result"
    }
   ],
   "source": [
    "result[0]"
   ]
  },
  {
   "cell_type": "code",
   "execution_count": 18,
   "id": "dd467830",
   "metadata": {},
   "outputs": [
    {
     "data": {
      "text/plain": [
       "array([[15, 16, 17, 18, 19, 20, 21, 22, 23, 24, 25, 26, 27, 28, 29]])"
      ]
     },
     "execution_count": 18,
     "metadata": {},
     "output_type": "execute_result"
    }
   ],
   "source": [
    "result[1]"
   ]
  },
  {
   "cell_type": "code",
   "execution_count": 23,
   "id": "99a5fad9",
   "metadata": {},
   "outputs": [],
   "source": [
    "# i can make only 2 divisions out of it"
   ]
  },
  {
   "cell_type": "code",
   "execution_count": null,
   "id": "9449dd5e",
   "metadata": {},
   "outputs": [],
   "source": []
  },
  {
   "cell_type": "code",
   "execution_count": null,
   "id": "d7d76d4d",
   "metadata": {},
   "outputs": [],
   "source": []
  },
  {
   "cell_type": "markdown",
   "id": "e513a17b",
   "metadata": {},
   "source": [
    "### Indexing with boolean arrays"
   ]
  },
  {
   "cell_type": "code",
   "execution_count": 20,
   "id": "4638062d",
   "metadata": {},
   "outputs": [
    {
     "data": {
      "text/plain": [
       "array([[ 0,  1,  2,  3],\n",
       "       [ 4,  5,  6,  7],\n",
       "       [ 8,  9, 10, 11]])"
      ]
     },
     "execution_count": 20,
     "metadata": {},
     "output_type": "execute_result"
    }
   ],
   "source": [
    "#its kind of non interior\n",
    "a = np.arange(12).reshape(3,4)\n",
    "a"
   ]
  },
  {
   "cell_type": "code",
   "execution_count": 21,
   "id": "52f28fe4",
   "metadata": {},
   "outputs": [
    {
     "data": {
      "text/plain": [
       "array([[False, False, False, False],\n",
       "       [False,  True,  True,  True],\n",
       "       [ True,  True,  True,  True]])"
      ]
     },
     "execution_count": 21,
     "metadata": {},
     "output_type": "execute_result"
    }
   ],
   "source": [
    "b = a > 4\n",
    "b"
   ]
  },
  {
   "cell_type": "code",
   "execution_count": null,
   "id": "60d47cc1",
   "metadata": {},
   "outputs": [],
   "source": [
    "#here it stores the results of this above expression\n",
    "# here 0 is not greater than 4 so its expression is false\n",
    "# 11 is greater than 4 so its bool expression is true\n",
    "#now pritty good i got 2 arrays 1 is numbers and another one is boolen\n"
   ]
  },
  {
   "cell_type": "code",
   "execution_count": null,
   "id": "600a8022",
   "metadata": {},
   "outputs": [],
   "source": []
  },
  {
   "cell_type": "code",
   "execution_count": 22,
   "id": "65219750",
   "metadata": {},
   "outputs": [
    {
     "data": {
      "text/plain": [
       "array([ 5,  6,  7,  8,  9, 10, 11])"
      ]
     },
     "execution_count": 22,
     "metadata": {},
     "output_type": "execute_result"
    }
   ],
   "source": [
    "a[b] #a is array and array of its index b is array itself "
   ]
  },
  {
   "cell_type": "code",
   "execution_count": 23,
   "id": "0933810d",
   "metadata": {},
   "outputs": [],
   "source": [
    "# this kinda original one from 5 to 11 it is true so its given all true elements \n",
    "#this is a cool way of extracting all the elements which are greater than four from your original \n",
    "# array\n",
    "# this is also useful that u want to replace those elements with certain numbers\n",
    "#### for example i can say\n",
    "a[b]=-1"
   ]
  },
  {
   "cell_type": "code",
   "execution_count": 24,
   "id": "739dcabe",
   "metadata": {},
   "outputs": [
    {
     "data": {
      "text/plain": [
       "array([[ 0,  1,  2,  3],\n",
       "       [ 4, -1, -1, -1],\n",
       "       [-1, -1, -1, -1]])"
      ]
     },
     "execution_count": 24,
     "metadata": {},
     "output_type": "execute_result"
    }
   ],
   "source": [
    "a"
   ]
  },
  {
   "cell_type": "code",
   "execution_count": 25,
   "id": "ca62fa3a",
   "metadata": {},
   "outputs": [],
   "source": [
    "# any element that greater than 4 you wanted to replace with -1 and thats what it did\n",
    "# this could be really powerfull based on what applications you write"
   ]
  },
  {
   "cell_type": "code",
   "execution_count": null,
   "id": "a14c86eb",
   "metadata": {},
   "outputs": [],
   "source": [
    "#numpy arrays are very fast and memory efficient"
   ]
  },
  {
   "cell_type": "markdown",
   "id": "6f4fc1a9",
   "metadata": {},
   "source": [
    "## That is all about array functions"
   ]
  },
  {
   "cell_type": "code",
   "execution_count": null,
   "id": "1fb7d747",
   "metadata": {},
   "outputs": [],
   "source": []
  }
 ],
 "metadata": {
  "kernelspec": {
   "display_name": "Python 3 (ipykernel)",
   "language": "python",
   "name": "python3"
  },
  "language_info": {
   "codemirror_mode": {
    "name": "ipython",
    "version": 3
   },
   "file_extension": ".py",
   "mimetype": "text/x-python",
   "name": "python",
   "nbconvert_exporter": "python",
   "pygments_lexer": "ipython3",
   "version": "3.10.6"
  }
 },
 "nbformat": 4,
 "nbformat_minor": 5
}
